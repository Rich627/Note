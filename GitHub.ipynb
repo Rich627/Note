{
 "cells": [
  {
   "cell_type": "markdown",
   "metadata": {},
   "source": [
    "### Github \n",
    "\n",
    "下載資料夾至local端:`git clone git@github.com:Rich627/xx.git`<br> \n",
    "同步已下載的repo:\n",
    "`git pull  git@github.com:Rich627/xx.git`<br>\n",
    "創建branch:`git branch -m branch_name`<br>\n",
    "切換branch:`git checkout branch_name`<br>"
   ]
  },
  {
   "cell_type": "markdown",
   "metadata": {},
   "source": []
  }
 ],
 "metadata": {
  "language_info": {
   "name": "python"
  },
  "orig_nbformat": 4
 },
 "nbformat": 4,
 "nbformat_minor": 2
}
